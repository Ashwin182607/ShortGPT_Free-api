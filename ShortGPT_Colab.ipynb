{
 "cells": [
  {
   "cell_type": "markdown",
   "metadata": {},
   "source": [
    "# 🚀 ShortGPT - AI Video Generation\n",
    "\n",
    "This notebook will help you run ShortGPT directly in Google Colab.\n",
    "\n",
    "## Step 1: Install Dependencies"
   ]
  },
  {
   "cell_type": "code",
   "execution_count": null,
   "metadata": {},
   "outputs": [],
   "source": [
    "!git clone https://github.com/RayVentura/ShortGPT.git\n",
    "%cd ShortGPT\n",
    "!pip install -r requirements.txt"
   ]
  },
  {
   "cell_type": "markdown",
   "metadata": {},
   "source": [
    "## Step 2: Set up API Keys\n",
    "\n",
    "Add your API keys below:"
   ]
  },
  {
   "cell_type": "code",
   "execution_count": null,
   "metadata": {},
   "outputs": [],
   "source": [
    "import os\n",
    "\n",
    "# Add your OpenAI API key\n",
    "os.environ['OPENAI_API_KEY'] = 'your-api-key-here'\n",
    "\n",
    "# Optional: Add ElevenLabs API key for premium voices\n",
    "os.environ['ELEVENLABS_API_KEY'] = 'your-api-key-here'"
   ]
  },
  {
   "cell_type": "markdown",
   "metadata": {},
   "source": [
    "## Step 3: Launch ShortGPT"
   ]
  },
  {
   "cell_type": "code",
   "execution_count": null,
   "metadata": {},
   "outputs": [],
   "source": [
    "!python runShortGPTColab.py"
   ]
  },
  {
   "cell_type": "markdown",
   "metadata": {},
   "source": [
    "## 🎮 How to Use\n",
    "\n",
    "1. Enter your desired topic in the interface\n",
    "2. Choose how many videos to generate (1-10)\n",
    "3. Select your preferred TTS engine and language\n",
    "4. Click \"Generate Videos\"\n",
    "5. Once complete, click \"Download Generated Videos\"\n",
    "\n",
    "## ⚡ Tips\n",
    "\n",
    "- Use specific topics for better results\n",
    "- Keep video count under 5 for faster generation\n",
    "- Test different TTS engines for best voice quality\n",
    "- Ensure your Colab runtime doesn't disconnect during generation"
   ]
  }
 ],
 "metadata": {
  "language_info": {
   "name": "python"
  }
 },
 "nbformat": 4,
 "nbformat_minor": 2
}
