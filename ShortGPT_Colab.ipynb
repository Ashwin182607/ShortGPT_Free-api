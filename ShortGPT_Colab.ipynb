{
 "cells": [
  {
   "cell_type": "markdown",
   "metadata": {},
   "source": [
    "# 🚀 ShortGPT Free API - Google Colab\n",
    "\n",
    "This notebook helps you run ShortGPT with enhanced voice generation capabilities.\n",
    "\n",
    "## 1️⃣ Setup Environment"
   ]
  },
  {
   "cell_type": "code",
   "execution_count": null,
   "metadata": {},
   "source": [
    "#@title Clone Repository and Install Dependencies\n",
    "!git clone https://github.com/Ashwin182607/ShortGPT_Free-api.git\n",
    "%cd ShortGPT_Free-api\n",
    "!pip install -r requirements.txt"
   ]
  },
  {
   "cell_type": "markdown",
   "metadata": {},
   "source": [
    "## 2️⃣ Install Additional System Dependencies"
   ]
  },
  {
   "cell_type": "code",
   "execution_count": null,
   "metadata": {},
   "source": [
    "#@title Install FFmpeg and other required system packages\n",
    "!apt-get update\n",
    "!apt-get install -y ffmpeg"
   ]
  },
  {
   "cell_type": "markdown",
   "metadata": {},
   "source": [
    "## 3️⃣ Configure API Keys\n",
    "\n",
    "Set up your API keys below. OpenAI key is required for content generation and optional for voice."
   ]
  },
  {
   "cell_type": "code",
   "execution_count": null,
   "metadata": {},
   "source": [
    "#@title Set API Keys\n",
    "import os\n",
    "from shortGPT.config.api_db import ApiKeyManager\n",
    "\n",
    "# Add your API keys here\n",
    "openai_api_key = \"\" #@param {type:\"string\"}\n",
    "elevenlabs_api_key = \"\" #@param {type:\"string\"}\n",
    "\n",
    "if openai_api_key:\n",
    "    ApiKeyManager.set_api_key(\"OPENAI\", openai_api_key)\n",
    "if elevenlabs_api_key:\n",
    "    ApiKeyManager.set_api_key(\"ELEVEN LABS\", elevenlabs_api_key)"
   ]
  },
  {
   "cell_type": "markdown",
   "metadata": {},
   "source": [
    "## 4️⃣ Launch ShortGPT Interface"
   ]
  },
  {
   "cell_type": "code",
   "execution_count": null,
   "metadata": {},
   "source": [
    "#@title Start ShortGPT\n",
    "!python runShortGPTColab.py"
   ]
  },
  {
   "cell_type": "markdown",
   "metadata": {},
   "source": [
    "## 🎯 Voice Options\n",
    "\n",
    "ShortGPT now supports multiple voice options:\n",
    "\n",
    "1. **OpenAI TTS** (Recommended)\n",
    "   - High quality, cost-effective\n",
    "   - Available voices: alloy, echo, fable, onyx, nova, shimmer\n",
    "   - Requires OpenAI API key\n",
    "\n",
    "2. **Edge TTS** (Free)\n",
    "   - Good quality, completely free\n",
    "   - Multiple languages and voices\n",
    "\n",
    "3. **ElevenLabs** (Premium)\n",
    "   - Best quality, higher cost\n",
    "   - Requires separate API key\n",
    "\n",
    "## 📝 Usage Tips\n",
    "\n",
    "1. Start with a clear, specific topic\n",
    "2. Choose your preferred voice engine\n",
    "3. Generate multiple videos in batch\n",
    "4. Download generated videos\n",
    "\n",
    "## ⚠️ Troubleshooting\n",
    "\n",
    "If you encounter any issues:\n",
    "1. Check if API keys are set correctly\n",
    "2. Ensure all dependencies are installed\n",
    "3. Try restarting the runtime if needed\n",
    "4. Check internet connectivity for API calls"
   ]
  }
 ],
 "metadata": {
  "accelerator": "GPU",
  "colab": {
   "provenance": []
  },
  "kernelspec": {
   "display_name": "Python 3",
   "name": "python3"
  },
  "language_info": {
   "name": "python"
  }
 },
 "nbformat": 4,
 "nbformat_minor": 0
}
