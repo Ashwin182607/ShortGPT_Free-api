{
 "cells": [
  {
   "cell_type": "markdown",
   "metadata": {},
   "source": [
    "# 🎬 ShortFactory - AI Video Creator\n",
    "\n",
    "Create engaging social media videos automatically with AI!\n",
    "\n",
    "## 🚀 Quick Setup\n",
    "1. Get your API keys:\n",
    "   - [Pexels API Key](https://www.pexels.com/api/)\n",
    "   - [Pixabay API Key](https://pixabay.com/api/docs/)\n",
    "2. Run all cells below\n",
    "3. Start creating videos!\n",
    "\n",
    "[![Open In Colab](https://colab.research.google.com/assets/colab-badge.svg)](https://colab.research.google.com/github/YOUR_USERNAME/shortfactory/blob/main/ShortFactory.ipynb)"
   ]
  },
  {
   "cell_type": "markdown",
   "metadata": {},
   "source": [
    "## 1️⃣ Install Dependencies"
   ]
  },
  {
   "cell_type": "code",
   "execution_count": null,
   "metadata": {},
   "outputs": [],
   "source": [
    "!pip install -q torch transformers accelerate gradio moviepy Pillow python-dotenv requests tqdm numpy sentencepiece tokenizers optimum"
   ]
  },
  {
   "cell_type": "markdown",
   "metadata": {},
   "source": [
    "## 2️⃣ Clone Repository"
   ]
  },
  {
   "cell_type": "code",
   "execution_count": null,
   "metadata": {},
   "outputs": [],
   "source": [
    "!git clone https://github.com/YOUR_USERNAME/shortfactory.git\n",
    "%cd shortfactory"
   ]
  },
  {
   "cell_type": "markdown",
   "metadata": {},
   "source": [
    "## 3️⃣ Set API Keys\n",
    "Enter your API keys below:"
   ]
  },
  {
   "cell_type": "code",
   "execution_count": null,
   "metadata": {},
   "outputs": [],
   "source": [
    "import os\n",
    "from pathlib import Path\n",
    "from IPython.display import HTML, display\n",
    "\n",
    "def save_api_keys(pexels_key, pixabay_key):\n",
    "    env_content = f\"\"\"PEXELS_API_KEY={pexels_key}\n",
    "PIXABAY_API_KEY={pixabay_key}\n",
    "\"\"\"\n",
    "    with open(\".env\", \"w\") as f:\n",
    "        f.write(env_content)\n",
    "    return \"API keys saved successfully!\"\n",
    "\n",
    "# Create input widgets\n",
    "display(HTML(\"\"\"\n",
    "<div style='background-color: #f8f9fa; padding: 20px; border-radius: 10px;'>\n",
    "    <p><b>Pexels API Key:</b></p>\n",
    "    <input type='password' id='pexels_key' style='width: 100%; padding: 5px;'>\n",
    "    <p><b>Pixabay API Key:</b></p>\n",
    "    <input type='password' id='pixabay_key' style='width: 100%; padding: 5px;'>\n",
    "    <button onclick='save_keys()' style='margin-top: 10px; padding: 5px 15px;'>Save Keys</button>\n",
    "</div>\n",
    "<script>\n",
    "function save_keys() {\n",
    "    var pexels = document.getElementById('pexels_key').value;\n",
    "    var pixabay = document.getElementById('pixabay_key').value;\n",
    "    var kernel = IPython.notebook.kernel;\n",
    "    var command = `save_api_keys('${pexels}', '${pixabay}')`;\n",
    "    kernel.execute(command);\n",
    "}\n",
    "</script>\n",
    "\"\"\"))"
   ]
  },
  {
   "cell_type": "markdown",
   "metadata": {},
   "source": [
    "## 4️⃣ Launch ShortFactory\n",
    "Click the link below to open the web interface:"
   ]
  },
  {
   "cell_type": "code",
   "execution_count": null,
   "metadata": {},
   "outputs": [],
   "source": [
    "import sys\n",
    "sys.path.append('.')\n",
    "\n",
    "from web_interface.app import main\n",
    "main()"
   ]
  },
  {
   "cell_type": "markdown",
   "metadata": {},
   "source": [
    "## 📚 Usage Guide\n",
    "\n",
    "1. **Enter Topic/Prompt**\n",
    "   - Be specific about what you want in your video\n",
    "   - Example: \"5 amazing facts about space exploration\"\n",
    "\n",
    "2. **Choose Platform**\n",
    "   - Select your target platform\n",
    "   - Each platform has optimized settings\n",
    "\n",
    "3. **Select Style**\n",
    "   - Choose from various video styles\n",
    "   - Affects visual appearance and mood\n",
    "\n",
    "4. **Set Duration**\n",
    "   - Choose video length (15-60 seconds)\n",
    "   - Platform guidelines are automatically applied\n",
    "\n",
    "5. **Text Effects**\n",
    "   - Choose animation style for text overlays\n",
    "   - Select text positioning\n",
    "\n",
    "## 🔧 Troubleshooting\n",
    "\n",
    "1. **API Key Issues**\n",
    "   - Make sure both API keys are entered correctly\n",
    "   - Check if you've reached API limits\n",
    "\n",
    "2. **Video Generation Errors**\n",
    "   - Try a different style or duration\n",
    "   - Check internet connection\n",
    "   - Ensure prompt is clear and specific\n",
    "\n",
    "3. **Performance Issues**\n",
    "   - Use shorter duration for faster generation\n",
    "   - Try simpler text effects\n",
    "   - Close other resource-intensive tabs\n",
    "\n",
    "## 🎯 Tips for Best Results\n",
    "\n",
    "1. **Prompts**\n",
    "   - Be specific and clear\n",
    "   - Include key points you want to cover\n",
    "   - Consider target audience\n",
    "\n",
    "2. **Style Selection**\n",
    "   - Match style to content type\n",
    "   - Consider platform trends\n",
    "   - Test different combinations\n",
    "\n",
    "3. **Text Effects**\n",
    "   - Use effects that match content pace\n",
    "   - Ensure text is readable\n",
    "   - Don't overuse complex animations"
   ]
  }
 ],
 "metadata": {
  "kernelspec": {
   "display_name": "Python 3",
   "language": "python",
   "name": "python3"
  },
  "language_info": {
   "codemirror_mode": {
    "name": "ipython",
    "version": 3
   },
   "file_extension": ".py",
   "mimetype": "text/x-python",
   "name": "python",
   "nbconvert_exporter": "python",
   "pygments_lexer": "ipython3",
   "version": "3.8.0"
  }
 },
 "nbformat": 4,
 "nbformat_minor": 4
}
