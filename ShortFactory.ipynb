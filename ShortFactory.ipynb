{
 "cells": [
  {
   "cell_type": "markdown",
   "metadata": {},
   "source": [
    "# 🎬 ShortFactory - AI Video Creator\n",
    "\n",
    "Create engaging social media videos automatically with AI!\n",
    "\n",
    "## 🚀 Quick Setup\n",
    "1. Get your API keys:\n",
    "   - [Pexels API Key](https://www.pexels.com/api/)\n",
    "   - [Pixabay API Key](https://pixabay.com/api/docs/)\n",
    "2. Run all cells below\n",
    "3. Start creating videos!\n",
    "\n",
    "[![Open In Colab](https://colab.research.google.com/assets/colab-badge.svg)](https://colab.research.google.com/github/Ashwin182607/shortfactory/blob/main/ShortFactory.ipynb?raw=true)"
   ]
  },
  {
   "cell_type": "markdown",
   "metadata": {},
   "source": [
    "# 🛠️ Setup Environment\n",
    "\n",
    "First, let's install the required system dependencies and set up our environment. Just run this cell and wait for it to complete."
   ]
  },
  {
   "cell_type": "code",
   "execution_count": null,
   "metadata": {},
   "outputs": [],
   "source": [
    "# 📦 Install system dependencies\n",
    "!sudo apt-get update\n",
    "!sudo apt-get install -y imagemagick ffmpeg\n",
    "\n",
    "# 🔧 Fix ImageMagick policy for video processing\n",
    "!sed -i '/<policy domain=\"path\" rights=\"none\" pattern=\"@\\*\"/d' /etc/ImageMagick-6/policy.xml\n",
    "\n",
    "# 📂 Clone and setup ShortFactory\n",
    "import os\n",
    "\n",
    "if not os.path.exists('/content/shortfactory'):\n",
    "    # Clone if not exists\n",
    "    !git clone https://github.com/Ashwin182607/shortfactory.git\n",
    "    %cd /content/shortfactory/\n",
    "else:\n",
    "    # Update existing repository\n",
    "    %cd /content/shortfactory/\n",
    "    !git pull\n",
    "\n",
    "# 📦 Install Python dependencies\n",
    "!pip install -r requirements.txt"
   ]
  },
  {
   "cell_type": "markdown",
   "metadata": {},
   "source": [
    "# 🔑 Configure API Keys\n",
    "\n",
    "Enter your API keys below. Don't have them yet? Get them here:\n",
    "- [Pexels API Key](https://www.pexels.com/api/)\n",
    "- [Pixabay API Key](https://pixabay.com/api/docs/)"
   ]
  },
  {
   "cell_type": "code",
   "execution_count": null,
   "metadata": {},
   "outputs": [],
   "source": [
    "import os\n",
    "\n",
    "# Set your API keys here\n",
    "os.environ['PEXELS_API_KEY'] = 'your_pexels_api_key_here'\n",
    "os.environ['PIXABAY_API_KEY'] = 'your_pixabay_api_key_here'\n",
    "\n",
    "# Verify API keys are set\n",
    "if os.getenv('PEXELS_API_KEY') == 'your_pexels_api_key_here' or \\\n",
    "   os.getenv('PIXABAY_API_KEY') == 'your_pixabay_api_key_here':\n",
    "    print('⚠️ Please replace the placeholder API keys with your actual keys!')\n",
    "else:\n",
    "    print('✅ API keys configured successfully!')"
   ]
  },
  {
   "cell_type": "markdown",
   "metadata": {},
   "source": [
    "# 🚀 Launch ShortFactory\n",
    "\n",
    "Run this cell to start the web interface. Once it's running, you'll see a URL - click it to open the ShortFactory interface!"
   ]
  },
  {
   "cell_type": "code",
   "execution_count": null,
   "metadata": {},
   "outputs": [],
   "source": [
    "# Start the web interface\n",
    "!python web_interface/app.py"
   ]
  },
  {
   "cell_type": "markdown",
   "metadata": {},
   "source": [
    "# 🎉 Ready to Create!\n",
    "\n",
    "The web interface should now be running. Here's what you can do:\n",
    "\n",
    "1. Choose your video topic\n",
    "2. Select platform (YouTube Shorts, TikTok, Instagram Reels)\n",
    "3. Pick a style\n",
    "4. Set duration and effects\n",
    "5. Generate your video!\n",
    "\n",
    "Need help? Check out our [documentation](https://github.com/Ashwin182607/shortfactory#-documentation) or [open an issue](https://github.com/Ashwin182607/shortfactory/issues)!"
   ]
  }
 ],
 "metadata": {
  "kernelspec": {
   "display_name": "Python 3",
   "language": "python",
   "name": "python3"
  },
  "language_info": {
   "codemirror_mode": {
    "name": "ipython",
    "version": 3
   },
   "file_extension": ".py",
   "mimetype": "text/x-python",
   "name": "python",
   "nbconvert_exporter": "python",
   "pygments_lexer": "ipython3",
   "version": "3.8.0"
  }
 },
 "nbformat": 4,
 "nbformat_minor": 4
}
