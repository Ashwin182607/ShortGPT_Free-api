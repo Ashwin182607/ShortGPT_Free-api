{
 "cells": [
  {
   "cell_type": "markdown",
   "metadata": {},
   "source": [
    "# 🎬 ShortFactory - AI Video Creator\n",
    "\n",
    "Create engaging social media videos automatically with AI!\n",
    "\n",
    "## 🚀 Quick Setup\n",
    "1. Get your API keys:\n",
    "   - [Pexels API Key](https://www.pexels.com/api/)\n",
    "   - [Pixabay API Key](https://pixabay.com/api/docs/)\n",
    "2. Run all cells below\n",
    "3. Start creating videos!\n",
    "\n",
    "[![Open In Colab](https://colab.research.google.com/assets/colab-badge.svg)](https://colab.research.google.com/github/Ashwin182607/shortfactory/blob/main/ShortFactory.ipynb?raw=true)"
   ]
  },
  {
   "cell_type": "markdown",
   "metadata": {},
   "source": [
    "# 🛠️ Setup Environment\n",
    "\n",
    "First, let's install the required system dependencies and set up our environment. Just run this cell and wait for it to complete."
   ]
  },
  {
   "cell_type": "code",
   "execution_count": null,
   "metadata": {},
   "outputs": [],
   "source": [
    "# 📦 Install system dependencies\n",
    "!sudo apt-get update\n",
    "!sudo apt-get install -y imagemagick ffmpeg\n",
    "\n",
    "# 🔧 Fix ImageMagick policy for video processing\n",
    "!sed -i '/<policy domain=\"path\" rights=\"none\" pattern=\"@\\*\"/d' /etc/ImageMagick-6/policy.xml\n",
    "\n",
    "# 📂 Clone and setup ShortFactory\n",
    "import os\n",
    "\n",
    "if not os.path.exists('/content/shortfactory'):\n",
    "    # Clone if not exists\n",
    "    !git clone https://github.com/Ashwin182607/shortfactory.git\n",
    "    %cd /content/shortfactory/\n",
    "else:\n",
    "    # Update existing repository\n",
    "    %cd /content/shortfactory/\n",
    "    !git pull\n",
    "\n",
    "# 📦 Install Python dependencies\n",
    "!pip install -r requirements.txt\n",
    "\n",
    "# 🔄 Set up Python path\n",
    "import sys\n",
    "if '/content/shortfactory' not in sys.path:\n",
    "    sys.path.insert(0, '/content/shortfactory')\n",
    "\n",
    "# ✅ Verify imports\n",
    "try:\n",
    "    from factory_core.factory import ShortFactory\n",
    "    print('✅ ShortFactory modules loaded successfully!')\n",
    "except ImportError as e:\n",
    "    print('❌ Error loading modules:', str(e))\n",
    "    print('Current Python path:', sys.path)"
   ]
  },
  {
   "cell_type": "markdown",
   "metadata": {},
   "source": [
    "# 🔑 Configure API Keys\n",
    "\n",
    "Enter your API keys below. Don't have them yet? Get them here:\n",
    "- [Pexels API Key](https://www.pexels.com/api/)\n",
    "- [Pixabay API Key](https://pixabay.com/api/docs/)"
   ]
  },
  {
   "cell_type": "code",
   "execution_count": null,
   "metadata": {},
   "outputs": [],
   "source": [
    "import os\n",
    "from pathlib import Path\n",
    "\n",
    "def save_api_keys(pexels_key, pixabay_key):\n",
    "    env_path = Path('.env')\n",
    "    env_content = f\"\"\"PEXELS_API_KEY={pexels_key}\n",
    "PIXABAY_API_KEY={pixabay_key}\n",
    "\"\"\"\n",
    "    env_path.write_text(env_content)\n",
    "    \n",
    "    # Also set environment variables for current session\n",
    "    os.environ['PEXELS_API_KEY'] = pexels_key\n",
    "    os.environ['PIXABAY_API_KEY'] = pixabay_key\n",
    "    return '✅ API keys saved successfully!'\n",
    "\n",
    "# Create input widgets\n",
    "from IPython.display import HTML, display\n",
    "\n",
    "display(HTML(\"\"\"\n",
    "<div style='background-color: #f8f9fa; padding: 20px; border-radius: 10px;'>\n",
    "    <p><b>Pexels API Key:</b></p>\n",
    "    <input type='password' id='pexels_key' style='width: 100%; padding: 5px;'>\n",
    "    <p><b>Pixabay API Key:</b></p>\n",
    "    <input type='password' id='pixabay_key' style='width: 100%; padding: 5px;'>\n",
    "    <button onclick='save_keys()' style='margin-top: 10px; padding: 5px 15px;'>Save Keys</button>\n",
    "</div>\n",
    "<script>\n",
    "function save_keys() {\n",
    "    var pexels = document.getElementById('pexels_key').value;\n",
    "    var pixabay = document.getElementById('pixabay_key').value;\n",
    "    var kernel = IPython.notebook.kernel;\n",
    "    var command = `save_api_keys('${pexels}', '${pixabay}')`;\n",
    "    kernel.execute(command);\n",
    "}\n",
    "</script>\n",
    "\"\"\"))"
   ]
  },
  {
   "cell_type": "markdown",
   "metadata": {},
   "source": [
    "# 🚀 Launch ShortFactory\n",
    "\n",
    "Run this cell to start the web interface. Once it's running, you'll see a URL - click it to open the ShortFactory interface!"
   ]
  },
  {
   "cell_type": "code",
   "execution_count": null,
   "metadata": {},
   "outputs": [],
   "source": [
    "    # Import required modules\n",
    "    import sys\n",
    "    from web_interface.app import main\n",
    "\n",
    "    # Verify Python path\n",
    "    if '/content/shortfactory' not in sys.path:\n",
    "        sys.path.insert(0, '/content/shortfactory')\n",
    "\n",
    "    # Start the web interface\n",
    "    main()"
   ]
  }
 ],
 "metadata": {
  "kernelspec": {
   "display_name": "Python 3",
   "language": "python",
   "name": "python3"
  },
  "language_info": {
   "codemirror_mode": {
    "name": "ipython",
    "version": 3
   },
   "file_extension": ".py",
   "mimetype": "text/x-python",
   "name": "python",
   "nbconvert_exporter": "python",
   "pygments_lexer": "ipython3",
   "version": "3.8.0"
  }
 },
 "nbformat": 4,
 "nbformat_minor": 4
}
